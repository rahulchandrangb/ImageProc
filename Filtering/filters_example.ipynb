{
 "cells": [
  {
   "cell_type": "code",
   "execution_count": 5,
   "metadata": {
    "collapsed": false
   },
   "outputs": [
    {
     "data": {
      "text/plain": [
       "array([[ 6, 15,  7,  3,  6],\n",
       "       [13, 11, 10,  7,  4],\n",
       "       [ 9, 10, 13, 10, 12],\n",
       "       [ 9,  9, 18, 10,  6],\n",
       "       [11, 20,  6,  2, 15]])"
      ]
     },
     "execution_count": 5,
     "metadata": {},
     "output_type": "execute_result"
    }
   ],
   "source": [
    "import numpy as  np\n",
    "\n",
    "raw_image = np.random.random_integers(20,size=(5,5))\n",
    "\n",
    "\n",
    "#The below derivative mask is center difference one...\n",
    "derivative_mask_fx = np.array([[-1,0,1],[-1,0,1],[-1,0,1]])\n",
    "derivative_mask_fy = np.array([[1,1,1],[0,0,0],[-1,-1,-1]])\n",
    "\n",
    "\n",
    "\n",
    "\n",
    "raw_image\n"
   ]
  },
  {
   "cell_type": "code",
   "execution_count": null,
   "metadata": {
    "collapsed": true
   },
   "outputs": [],
   "source": []
  }
 ],
 "metadata": {
  "kernelspec": {
   "display_name": "Python 2",
   "language": "python",
   "name": "python2"
  },
  "language_info": {
   "codemirror_mode": {
    "name": "ipython",
    "version": 2
   },
   "file_extension": ".py",
   "mimetype": "text/x-python",
   "name": "python",
   "nbconvert_exporter": "python",
   "pygments_lexer": "ipython2",
   "version": "2.7.10"
  }
 },
 "nbformat": 4,
 "nbformat_minor": 0
}
