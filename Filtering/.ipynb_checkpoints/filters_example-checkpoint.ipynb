{
 "cells": [
  {
   "cell_type": "code",
   "execution_count": 7,
   "metadata": {
    "collapsed": false
   },
   "outputs": [
    {
     "data": {
      "text/plain": [
       "array([[11, 12,  3, 19, 19],\n",
       "       [20, 10,  1, 20, 15],\n",
       "       [20, 14,  3, 14, 17],\n",
       "       [ 1,  6,  4,  6,  2],\n",
       "       [20, 16, 20, 13,  4]])"
      ]
     },
     "execution_count": 7,
     "metadata": {},
     "output_type": "execute_result"
    }
   ],
   "source": [
    "import numpy as  np\n",
    "\n",
    "raw_image = np.random.random_integers(20,size=(5,5))\n",
    "\n",
    "\n",
    "#The below derivative mask is center difference one...\n",
    "derivative_mask_fx = np.array([[-1,0,1],[-1,0,1],[-1,0,1]])\n",
    "derivative_mask_fy = np.array([[1,1,1],[0,0,0],[-1,-1,-1]])\n",
    "\n",
    "\n",
    "raw_image"
   ]
  },
  {
   "cell_type": "code",
   "execution_count": 25,
   "metadata": {
    "collapsed": false
   },
   "outputs": [
    {
     "ename": "NameError",
     "evalue": "global name 'img_idx_r' is not defined",
     "output_type": "error",
     "traceback": [
      "\u001b[1;31m---------------------------------------------------------------------------\u001b[0m",
      "\u001b[1;31mNameError\u001b[0m                                 Traceback (most recent call last)",
      "\u001b[1;32m<ipython-input-25-f2be2b5354b8>\u001b[0m in \u001b[0;36m<module>\u001b[1;34m()\u001b[0m\n\u001b[0;32m     32\u001b[0m \u001b[1;31m#Calculate the convolution matrix along x and y direction\u001b[0m\u001b[1;33m\u001b[0m\u001b[1;33m\u001b[0m\u001b[0m\n\u001b[0;32m     33\u001b[0m \u001b[1;33m\u001b[0m\u001b[0m\n\u001b[1;32m---> 34\u001b[1;33m \u001b[0mconv_fx\u001b[0m \u001b[1;33m=\u001b[0m \u001b[0mcalc_conv_mask_applied\u001b[0m\u001b[1;33m(\u001b[0m\u001b[0mraw_image\u001b[0m\u001b[1;33m,\u001b[0m\u001b[0mderivative_mask_fx\u001b[0m\u001b[1;33m)\u001b[0m\u001b[1;33m\u001b[0m\u001b[0m\n\u001b[0m\u001b[0;32m     35\u001b[0m \u001b[0mconv_fy\u001b[0m \u001b[1;33m=\u001b[0m \u001b[0mcalc_conv_mask_applied\u001b[0m\u001b[1;33m(\u001b[0m\u001b[0mraw_image\u001b[0m\u001b[1;33m,\u001b[0m\u001b[0mderivative_mask_fy\u001b[0m\u001b[1;33m)\u001b[0m\u001b[1;33m\u001b[0m\u001b[0m\n",
      "\u001b[1;32m<ipython-input-25-f2be2b5354b8>\u001b[0m in \u001b[0;36mcalc_conv_mask_applied\u001b[1;34m(raw_image, der_mask)\u001b[0m\n\u001b[0;32m     22\u001b[0m \u001b[1;33m\u001b[0m\u001b[0m\n\u001b[0;32m     23\u001b[0m     \u001b[1;32mfor\u001b[0m \u001b[0mimg_idx_c\u001b[0m \u001b[1;32min\u001b[0m \u001b[0mrange\u001b[0m\u001b[1;33m(\u001b[0m\u001b[1;36m1\u001b[0m\u001b[1;33m,\u001b[0m\u001b[0mimg_num_cols\u001b[0m\u001b[1;33m-\u001b[0m\u001b[1;36m1\u001b[0m\u001b[1;33m)\u001b[0m\u001b[1;33m:\u001b[0m\u001b[1;33m\u001b[0m\u001b[0m\n\u001b[1;32m---> 24\u001b[1;33m             \u001b[0minter_mat\u001b[0m \u001b[1;33m=\u001b[0m \u001b[0mraw_image\u001b[0m\u001b[1;33m[\u001b[0m\u001b[0mimg_idx_r\u001b[0m\u001b[1;33m-\u001b[0m\u001b[1;36m1\u001b[0m\u001b[1;33m:\u001b[0m\u001b[0mimg_idx_r\u001b[0m\u001b[1;33m+\u001b[0m\u001b[1;36m2\u001b[0m\u001b[1;33m,\u001b[0m\u001b[0mimg_idx_c\u001b[0m\u001b[1;33m-\u001b[0m\u001b[1;36m1\u001b[0m\u001b[1;33m:\u001b[0m\u001b[0mimg_idx_c\u001b[0m\u001b[1;33m+\u001b[0m\u001b[1;36m2\u001b[0m\u001b[1;33m]\u001b[0m \u001b[1;33m*\u001b[0m \u001b[0mconv_mask\u001b[0m\u001b[1;33m\u001b[0m\u001b[0m\n\u001b[0m\u001b[0;32m     25\u001b[0m             \u001b[0mder\u001b[0m \u001b[1;33m=\u001b[0m \u001b[0mnp\u001b[0m\u001b[1;33m.\u001b[0m\u001b[0msum\u001b[0m\u001b[1;33m(\u001b[0m\u001b[0minter_mat\u001b[0m\u001b[1;33m)\u001b[0m\u001b[1;33m\u001b[0m\u001b[0m\n\u001b[0;32m     26\u001b[0m             \u001b[0mfinal_image\u001b[0m\u001b[1;33m[\u001b[0m\u001b[0mimg_idx_r\u001b[0m\u001b[1;33m,\u001b[0m\u001b[0mimg_idx_c\u001b[0m\u001b[1;33m]\u001b[0m \u001b[1;33m=\u001b[0m \u001b[0mder\u001b[0m\u001b[1;33m\u001b[0m\u001b[0m\n",
      "\u001b[1;31mNameError\u001b[0m: global name 'img_idx_r' is not defined"
     ]
    }
   ],
   "source": [
    "#This function find the correlation between an image and a mask[kernel] applied in a sliding window manner\n",
    "def calc_cor_mask_applied(raw_image,der_mask):\n",
    "    img_num_rows = raw_image.shape[0]\n",
    "    img_num_cols = raw_image.shape[1]\n",
    "    \n",
    "    final_image = np.zeros((img_num_rows,img_num_cols))\n",
    "    for img_idx_r in range(1,img_num_rows-1):\n",
    "        for img_idx_c in range(1,img_num_cols-1):\n",
    "            inter_mat = raw_image[img_idx_r-1:img_idx_r+2,img_idx_c-1:img_idx_c+2] * der_mask\n",
    "            der = np.sum(inter_mat)\n",
    "            final_image[img_idx_r,img_idx_c] = der\n",
    "    \n",
    "    return final_image\n",
    "\n",
    "#This function find the convolution between an image and the mask applied ina  sliding window manner \n",
    "def calc_conv_mask_applied(raw_image,der_mask):\n",
    "    img_num_rows = raw_image.shape[0]\n",
    "    img_num_cols = raw_image.shape[1]\n",
    "    final_image = np.zeros((img_num_rows,img_num_cols))\n",
    "    # we have to now flip the mask -> up to down -> left to right\n",
    "    conv_mask = np.flipud(np.fliplr(der_mask))\n",
    "    for img_idx_r in range(1,img_num_rows-1):\n",
    "        for img_idx_c in range(1,img_num_cols-1):\n",
    "            inter_mat = raw_image[img_idx_r-1:img_idx_r+2,img_idx_c-1:img_idx_c+2] * conv_mask\n",
    "            der = np.sum(inter_mat)\n",
    "            final_image[img_idx_r,img_idx_c] = der\n",
    "\n",
    "#Calculate the correlation matrix along x and y direction\n",
    "corr_fx = calc_mask_applied(raw_image,derivative_mask_fx)\n",
    "corr_fy = calc_mask_applied(raw_image,derivative_mask_fy)\n",
    "\n",
    "#Calculate the convolution matrix along x and y direction\n",
    "\n",
    "conv_fx = calc_conv_mask_applied(raw_image,derivative_mask_fx)\n",
    "conv_fy = calc_conv_mask_applied(raw_image,derivative_mask_fy)"
   ]
  },
  {
   "cell_type": "code",
   "execution_count": 24,
   "metadata": {
    "collapsed": false
   },
   "outputs": [
    {
     "data": {
      "text/plain": [
       "array([[  0.,   0.,   0.,   0.,   0.],\n",
       "       [  0., -11.,   3.,   7.,   0.],\n",
       "       [  0.,  20.,  15.,  24.,   0.],\n",
       "       [  0., -19., -18.,  -3.,   0.],\n",
       "       [  0.,   0.,   0.,   0.,   0.]])"
      ]
     },
     "execution_count": 24,
     "metadata": {},
     "output_type": "execute_result"
    }
   ],
   "source": []
  },
  {
   "cell_type": "code",
   "execution_count": null,
   "metadata": {
    "collapsed": true
   },
   "outputs": [],
   "source": []
  }
 ],
 "metadata": {
  "kernelspec": {
   "display_name": "Python 2",
   "language": "python",
   "name": "python2"
  },
  "language_info": {
   "codemirror_mode": {
    "name": "ipython",
    "version": 2
   },
   "file_extension": ".py",
   "mimetype": "text/x-python",
   "name": "python",
   "nbconvert_exporter": "python",
   "pygments_lexer": "ipython2",
   "version": "2.7.10"
  }
 },
 "nbformat": 4,
 "nbformat_minor": 0
}
