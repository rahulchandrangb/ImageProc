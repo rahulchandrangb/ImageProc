{
 "cells": [
  {
   "cell_type": "code",
   "execution_count": 7,
   "metadata": {
    "collapsed": false
   },
   "outputs": [
    {
     "data": {
      "text/plain": [
       "array([[11, 12,  3, 19, 19],\n",
       "       [20, 10,  1, 20, 15],\n",
       "       [20, 14,  3, 14, 17],\n",
       "       [ 1,  6,  4,  6,  2],\n",
       "       [20, 16, 20, 13,  4]])"
      ]
     },
     "execution_count": 7,
     "metadata": {},
     "output_type": "execute_result"
    }
   ],
   "source": [
    "import numpy as  np\n",
    "\n",
    "raw_image = np.random.random_integers(20,size=(5,5))\n",
    "\n",
    "\n",
    "#The below derivative mask is center difference one...\n",
    "derivative_mask_fx = np.array([[-1,0,1],[-1,0,1],[-1,0,1]])\n",
    "derivative_mask_fy = np.array([[1,1,1],[0,0,0],[-1,-1,-1]])\n",
    "\n",
    "\n",
    "raw_image"
   ]
  },
  {
   "cell_type": "code",
   "execution_count": 28,
   "metadata": {
    "collapsed": false
   },
   "outputs": [],
   "source": [
    "#This function find the correlation between an image and a mask[kernel] applied in a sliding window manner\n",
    "def calc_cor_mask_applied(raw_image,der_mask):\n",
    "    img_num_rows = raw_image.shape[0]\n",
    "    img_num_cols = raw_image.shape[1]\n",
    "    \n",
    "    final_image = np.zeros((img_num_rows,img_num_cols))\n",
    "    for img_idx_r in range(1,img_num_rows-1):\n",
    "        for img_idx_c in range(1,img_num_cols-1):\n",
    "            inter_mat = raw_image[img_idx_r-1:img_idx_r+2,img_idx_c-1:img_idx_c+2] * der_mask\n",
    "            der = np.sum(inter_mat)\n",
    "            final_image[img_idx_r,img_idx_c] = der\n",
    "    \n",
    "    return final_image\n",
    "\n",
    "#This function find the convolution between an image and the mask applied ina  sliding window manner \n",
    "def calc_conv_mask_applied(raw_image,der_mask):\n",
    "    img_num_rows = raw_image.shape[0]\n",
    "    img_num_cols = raw_image.shape[1]\n",
    "    final_image = np.zeros((img_num_rows,img_num_cols))\n",
    "    # we have to now flip the mask -> up to down -> left to right\n",
    "    conv_mask = np.flipud(np.fliplr(der_mask))\n",
    "    for img_idx_r in range(1,img_num_rows-1):\n",
    "        for img_idx_c in range(1,img_num_cols-1):\n",
    "            inter_mat = raw_image[img_idx_r-1:img_idx_r+2,img_idx_c-1:img_idx_c+2] * conv_mask\n",
    "            der = np.sum(inter_mat)\n",
    "            final_image[img_idx_r,img_idx_c] = der\n",
    "    return final_image\n",
    "\n",
    "#Calculate the correlation matrix along x and y direction\n",
    "corr_fx = calc_mask_applied(raw_image,derivative_mask_fx)\n",
    "corr_fy = calc_mask_applied(raw_image,derivative_mask_fy)\n",
    "\n",
    "#Calculate the convolution matrix along x and y direction\n",
    "\n",
    "conv_fx = calc_conv_mask_applied(raw_image,derivative_mask_fx)\n",
    "conv_fy = calc_conv_mask_applied(raw_image,derivative_mask_fy)"
   ]
  },
  {
   "cell_type": "code",
   "execution_count": 51,
   "metadata": {
    "collapsed": false
   },
   "outputs": [
    {
     "name": "stdout",
     "output_type": "stream",
     "text": [
      "0 0 1.0\n",
      "0 1 1.0\n",
      "1 0 1.0\n",
      "1 1 1.0\n"
     ]
    }
   ],
   "source": [
    "# This is a gaussian function, which is used in generating filter mask\n",
    "\n",
    "def gauss_func(x,y,sigma):\n",
    "    print x,y,sigma\n",
    "    return np.exp(-0.5 * ((x **2 + y**2)/sigma**2))\n",
    "\n",
    "# Now let's create a gaussian filter [3x3]\n",
    "# Note that in gaussian filter, convolution operation will be equal to correlation, \n",
    "# since flipping of the filter yields same filter [since it's gaussian]\n",
    "\n",
    "\n",
    "def calcGauss2D(filter_size=3,variance=1.0):\n",
    "    gauss_min = np.zeros((filter_size,filter_size))\n",
    "    mid_sz = filter_size/2\n",
    "    for val_r in range( (filter_size/2)+1):\n",
    "        for val_c in range( (filter_size/2)+1):\n",
    "            g_val = gauss_func(val_r,val_c,variance)\n",
    "            gauss_min[mid_sz+val_r,mid_sz+val_c] = g_val\n",
    "            gauss_min[mid_sz+val_r,mid_sz-val_c] = g_val\n",
    "            gauss_min[mid_sz-val_r,mid_sz+val_c] = g_val\n",
    "            gauss_min[mid_sz-val_r,mid_sz-val_c] = g_val\n",
    "    return gauss_min\n",
    "    \n",
    "xxxx=calcGauss2D(filter_size=4)         \n",
    "    "
   ]
  },
  {
   "cell_type": "code",
   "execution_count": 49,
   "metadata": {
    "collapsed": false
   },
   "outputs": [
    {
     "data": {
      "text/plain": [
       "array([[ 0.36787944,  0.60653066,  0.36787944],\n",
       "       [ 0.60653066,  1.        ,  0.60653066],\n",
       "       [ 0.36787944,  0.60653066,  0.36787944]])"
      ]
     },
     "execution_count": 49,
     "metadata": {},
     "output_type": "execute_result"
    }
   ],
   "source": [
    "xxxx"
   ]
  },
  {
   "cell_type": "code",
   "execution_count": null,
   "metadata": {
    "collapsed": true
   },
   "outputs": [],
   "source": []
  }
 ],
 "metadata": {
  "kernelspec": {
   "display_name": "Python 2",
   "language": "python",
   "name": "python2"
  },
  "language_info": {
   "codemirror_mode": {
    "name": "ipython",
    "version": 2
   },
   "file_extension": ".py",
   "mimetype": "text/x-python",
   "name": "python",
   "nbconvert_exporter": "python",
   "pygments_lexer": "ipython2",
   "version": "2.7.10"
  }
 },
 "nbformat": 4,
 "nbformat_minor": 0
}
