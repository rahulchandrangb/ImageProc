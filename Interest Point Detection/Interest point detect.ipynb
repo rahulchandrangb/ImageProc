{
 "cells": [
  {
   "cell_type": "code",
   "execution_count": 16,
   "metadata": {
    "collapsed": false
   },
   "outputs": [],
   "source": [
    "%matplotlib inline\n",
    "import numpy as np\n",
    "from PIL import Image\n",
    "from scipy.linalg import *"
   ]
  },
  {
   "cell_type": "code",
   "execution_count": 47,
   "metadata": {
    "collapsed": false
   },
   "outputs": [],
   "source": [
    "# Firrst we have to read the jpg\n",
    "filename = \"/home/rahul/Desktop/teddy.jpg\"\n",
    "\n",
    "im  = Image.open(filename)\n",
    "pix = im.load()\n",
    "\n",
    "pic_width = im.width\n",
    "pic_height = im.height\n",
    "\n",
    "im_ix = im.copy()\n",
    "\n",
    "im_iy = im.copy()\n",
    "\n",
    "\n",
    "im_ix_iy = im.copy()\n",
    "\n",
    "def pixSubtract(pix1,pix2):\n",
    "    r = pix1[0] - pix2[0]\n",
    "    g = pix1[1] - pix2[1]\n",
    "    b = pix1[2] - pix2[2]\n",
    "    return (r,g,b)\n",
    "def pixMul(pix1,pix2):\n",
    "    r = pix1[0]* pix2[0]\n",
    "    g = pix1[1] * pix2[1]\n",
    "    b = pix1[2] * pix2[2]\n",
    "    return (r,g,b)\n",
    "\n",
    "            "
   ]
  },
  {
   "cell_type": "code",
   "execution_count": 22,
   "metadata": {
    "collapsed": false
   },
   "outputs": [],
   "source": [
    "# Now find Ix, Iy\n",
    "\n",
    "\n",
    "for row in range(pic_height):\n",
    "    for col in range(pic_width):\n",
    "        if(row == pic_height-1 or row == 0 or col == pic_width-1 or col == 0):\n",
    "            im_ix.putpixel((row,col), (0,0,0))\n",
    "            im_iy.putpixel((row,col), (0,0,0))\n",
    "            \n",
    "        else:            \n",
    "            im_ix.putpixel((row,col),pixSubtract(pix[row,col],pix[row,col-1]))\n",
    "            im_iy.putpixel((row,col),pixSubtract(pix[row,col],pix[row-1,col]))\n",
    "         \n",
    "\n",
    "            \n",
    "\n",
    "\n",
    "\n",
    "\n",
    "\n",
    "#Compute gaussian mask\n",
    "\n",
    "\n",
    "#Convolve [or correl?] both\n",
    "\n",
    "\n",
    "#\n",
    "\n",
    "\n",
    "\n",
    "\n",
    "\n",
    "\n",
    "\n"
   ]
  },
  {
   "cell_type": "code",
   "execution_count": 51,
   "metadata": {
    "collapsed": false
   },
   "outputs": [],
   "source": [
    "im_iy.show()"
   ]
  },
  {
   "cell_type": "code",
   "execution_count": 45,
   "metadata": {
    "collapsed": false
   },
   "outputs": [
    {
     "data": {
      "text/plain": [
       "(2, 2, 2)"
      ]
     },
     "execution_count": 45,
     "metadata": {},
     "output_type": "execute_result"
    }
   ],
   "source": []
  },
  {
   "cell_type": "code",
   "execution_count": 48,
   "metadata": {
    "collapsed": false
   },
   "outputs": [
    {
     "ename": "ImportError",
     "evalue": "No module named pyx",
     "output_type": "error",
     "traceback": [
      "\u001b[1;31m---------------------------------------------------------------------------\u001b[0m",
      "\u001b[1;31mImportError\u001b[0m                               Traceback (most recent call last)",
      "\u001b[1;32m<ipython-input-48-c15389801ece>\u001b[0m in \u001b[0;36m<module>\u001b[1;34m()\u001b[0m\n\u001b[1;32m----> 1\u001b[1;33m \u001b[1;32mfrom\u001b[0m \u001b[0mpyx\u001b[0m \u001b[1;32mimport\u001b[0m \u001b[1;33m*\u001b[0m\u001b[1;33m\u001b[0m\u001b[0m\n\u001b[0m",
      "\u001b[1;31mImportError\u001b[0m: No module named pyx"
     ]
    }
   ],
   "source": []
  },
  {
   "cell_type": "code",
   "execution_count": null,
   "metadata": {
    "collapsed": true
   },
   "outputs": [],
   "source": []
  }
 ],
 "metadata": {
  "kernelspec": {
   "display_name": "Python 2",
   "language": "python",
   "name": "python2"
  },
  "language_info": {
   "codemirror_mode": {
    "name": "ipython",
    "version": 2
   },
   "file_extension": ".py",
   "mimetype": "text/x-python",
   "name": "python",
   "nbconvert_exporter": "python",
   "pygments_lexer": "ipython2",
   "version": "2.7.10"
  }
 },
 "nbformat": 4,
 "nbformat_minor": 0
}
