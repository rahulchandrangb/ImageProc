{
 "cells": [
  {
   "cell_type": "code",
   "execution_count": 5,
   "metadata": {
    "collapsed": false
   },
   "outputs": [],
   "source": [
    "%matplotlib inline\n",
    "import numpy as np\n",
    "from PIL import Image\n",
    "from matplotlib import pyplot as plt\n",
    "from skimage import data\n",
    "from skimage.feature import blob_dog,blob_log,blob_doh\n",
    "from math import sqrt\n",
    "from skimage import rgb2gray\n",
    "from scipy.linalg import *"
   ]
  },
  {
   "cell_type": "code",
   "execution_count": 6,
   "metadata": {
    "collapsed": false
   },
   "outputs": [],
   "source": [
    "# Firrst we have to read the jpg\n",
    "filename = \"/home/rahul/Desktop/teddy.jpg\"\n",
    "\n",
    "im  = Image.open(filename)\n",
    "pix = im.load()\n",
    "\n",
    "pic_width = im.width\n",
    "pic_height = im.height\n",
    "\n",
    "im_ix = im.copy()\n",
    "\n",
    "im_iy = im.copy()\n",
    "\n",
    "\n",
    "im_ix_iy = im.copy()\n",
    "\n",
    "def pixSubtract(pix1,pix2):\n",
    "    r = pix1[0] - pix2[0]\n",
    "    g = pix1[1] - pix2[1]\n",
    "    b = pix1[2] - pix2[2]\n",
    "    return (r,g,b)\n",
    "def pixMul(pix1,pix2):\n",
    "    r = pix1[0]* pix2[0]\n",
    "    g = pix1[1] * pix2[1]\n",
    "    b = pix1[2] * pix2[2]\n",
    "    return (r,g,b)\n",
    "\n",
    "            "
   ]
  },
  {
   "cell_type": "code",
   "execution_count": 7,
   "metadata": {
    "collapsed": false
   },
   "outputs": [],
   "source": [
    "# Now find Ix, Iy\n",
    "\n",
    "\n",
    "for row in range(pic_height):\n",
    "    for col in range(pic_width):\n",
    "        if(row == pic_height-1 or row == 0 or col == pic_width-1 or col == 0):\n",
    "            im_ix.putpixel((row,col), (0,0,0))\n",
    "            im_iy.putpixel((row,col), (0,0,0))\n",
    "            \n",
    "        else:            \n",
    "            im_ix.putpixel((row,col),pixSubtract(pix[row,col],pix[row,col-1]))\n",
    "            im_iy.putpixel((row,col),pixSubtract(pix[row,col],pix[row-1,col]))\n",
    "\n",
    "\n"
   ]
  },
  {
   "cell_type": "code",
   "execution_count": 9,
   "metadata": {
    "collapsed": false
   },
   "outputs": [],
   "source": [
    "# "
   ]
  },
  {
   "cell_type": "code",
   "execution_count": null,
   "metadata": {
    "collapsed": false
   },
   "outputs": [],
   "source": []
  },
  {
   "cell_type": "code",
   "execution_count": null,
   "metadata": {
    "collapsed": false
   },
   "outputs": [],
   "source": []
  },
  {
   "cell_type": "code",
   "execution_count": null,
   "metadata": {
    "collapsed": true
   },
   "outputs": [],
   "source": []
  }
 ],
 "metadata": {
  "kernelspec": {
   "display_name": "Python 2",
   "language": "python",
   "name": "python2"
  },
  "language_info": {
   "codemirror_mode": {
    "name": "ipython",
    "version": 2
   },
   "file_extension": ".py",
   "mimetype": "text/x-python",
   "name": "python",
   "nbconvert_exporter": "python",
   "pygments_lexer": "ipython2",
   "version": "2.7.10"
  }
 },
 "nbformat": 4,
 "nbformat_minor": 0
}
